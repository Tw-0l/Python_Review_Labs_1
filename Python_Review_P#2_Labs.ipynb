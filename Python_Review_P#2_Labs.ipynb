{
 "cells": [
  {
   "cell_type": "markdown",
   "id": "fd7b73d1",
   "metadata": {
    "tags": []
   },
   "source": [
    "## Lab1-Loop\n",
    "\n",
    "### 1) Using range(), make a range from 45 to 210, using a for loop iterate over the sequence and print the elements. Skip the number 100 and break the loop at 205.\n",
    "\n",
    "### 2) Using a while loop and input, do the following:\n",
    "- Ask the the user : \"what is the product of 7 * 24 ?\"\n",
    "- check if the answer is right then exit the loop and print \"You answered this Question correctly\".\n",
    "- if the answer is wrong, then print \"Your Answer is wrong try again..\" and show the user the question again."
   ]
  },
  {
   "cell_type": "code",
   "execution_count": 5,
   "id": "81576461",
   "metadata": {
    "tags": []
   },
   "outputs": [
    {
     "name": "stdout",
     "output_type": "stream",
     "text": [
      "45\n",
      "46\n",
      "47\n",
      "48\n",
      "49\n",
      "50\n",
      "51\n",
      "52\n",
      "53\n",
      "54\n",
      "55\n",
      "56\n",
      "57\n",
      "58\n",
      "59\n",
      "60\n",
      "61\n",
      "62\n",
      "63\n",
      "64\n",
      "65\n",
      "66\n",
      "67\n",
      "68\n",
      "69\n",
      "70\n",
      "71\n",
      "72\n",
      "73\n",
      "74\n",
      "75\n",
      "76\n",
      "77\n",
      "78\n",
      "79\n",
      "80\n",
      "81\n",
      "82\n",
      "83\n",
      "84\n",
      "85\n",
      "86\n",
      "87\n",
      "88\n",
      "89\n",
      "90\n",
      "91\n",
      "92\n",
      "93\n",
      "94\n",
      "95\n",
      "96\n",
      "97\n",
      "98\n",
      "99\n",
      "101\n",
      "102\n",
      "103\n",
      "104\n",
      "105\n",
      "106\n",
      "107\n",
      "108\n",
      "109\n",
      "110\n",
      "111\n",
      "112\n",
      "113\n",
      "114\n",
      "115\n",
      "116\n",
      "117\n",
      "118\n",
      "119\n",
      "120\n",
      "121\n",
      "122\n",
      "123\n",
      "124\n",
      "125\n",
      "126\n",
      "127\n",
      "128\n",
      "129\n",
      "130\n",
      "131\n",
      "132\n",
      "133\n",
      "134\n",
      "135\n",
      "136\n",
      "137\n",
      "138\n",
      "139\n",
      "140\n",
      "141\n",
      "142\n",
      "143\n",
      "144\n",
      "145\n",
      "146\n",
      "147\n",
      "148\n",
      "149\n",
      "150\n",
      "151\n",
      "152\n",
      "153\n",
      "154\n",
      "155\n",
      "156\n",
      "157\n",
      "158\n",
      "159\n",
      "160\n",
      "161\n",
      "162\n",
      "163\n",
      "164\n",
      "165\n",
      "166\n",
      "167\n",
      "168\n",
      "169\n",
      "170\n",
      "171\n",
      "172\n",
      "173\n",
      "174\n",
      "175\n",
      "176\n",
      "177\n",
      "178\n",
      "179\n",
      "180\n",
      "181\n",
      "182\n",
      "183\n",
      "184\n",
      "185\n",
      "186\n",
      "187\n",
      "188\n",
      "189\n",
      "190\n",
      "191\n",
      "192\n",
      "193\n",
      "194\n",
      "195\n",
      "196\n",
      "197\n",
      "198\n",
      "199\n",
      "200\n",
      "201\n",
      "202\n",
      "203\n",
      "204\n",
      "205\n"
     ]
    }
   ],
   "source": [
    "for x in range(45, 211):\n",
    "    if x == 100:\n",
    "        continue\n",
    "    print(x)\n",
    "    if x == 205:\n",
    "        break\n"
   ]
  },
  {
   "cell_type": "code",
   "execution_count": 10,
   "id": "0cdf18d9-1738-4f5a-972a-a45ef2d04576",
   "metadata": {
    "tags": []
   },
   "outputs": [
    {
     "name": "stdin",
     "output_type": "stream",
     "text": [
      "What is the product of 7 * 24?  168\n"
     ]
    },
    {
     "name": "stdout",
     "output_type": "stream",
     "text": [
      "You answered this question correctly.\n"
     ]
    }
   ],
   "source": [
    "tr_answer = 7 * 24\n",
    "while True:\n",
    "    user_answer = int(input(\"What is the product of 7 * 24? \"))\n",
    "    if user_answer == tr_answer:\n",
    "        print(\"You answered this question correctly.\")\n",
    "        break\n",
    "    else:\n",
    "        print(\"Your answer is wrong. Try again...\")\n"
   ]
  },
  {
   "cell_type": "markdown",
   "id": "5887393a",
   "metadata": {},
   "source": [
    "## Lab2-Functions\n",
    "\n",
    "### Create a function that takes one parameter of type int, then it prints out the result formatted like the following pattern (if we give it 5 for example):\n",
    "5 4 3 2 1   \n",
    "4 3 2 1   \n",
    "3 2 1   \n",
    "2 1   \n",
    "1   "
   ]
  },
  {
   "cell_type": "code",
   "execution_count": 35,
   "id": "44c6b152",
   "metadata": {
    "tags": []
   },
   "outputs": [
    {
     "name": "stdout",
     "output_type": "stream",
     "text": [
      "5 4 3 2 1 \n",
      "4 3 2 1 \n",
      "3 2 1 \n",
      "2 1 \n",
      "1 \n"
     ]
    }
   ],
   "source": [
    "def print_pattern(x):\n",
    "    for i in range(x, 0, -1):\n",
    "        for j in range(i, 0, -1):\n",
    "            print(j, end=\" \")\n",
    "        print()\n",
    "\n",
    "\n",
    "print_pattern(5)\n"
   ]
  }
 ],
 "metadata": {
  "kernelspec": {
   "display_name": "Python 3 (ipykernel)",
   "language": "python",
   "name": "python3"
  },
  "language_info": {
   "codemirror_mode": {
    "name": "ipython",
    "version": 3
   },
   "file_extension": ".py",
   "mimetype": "text/x-python",
   "name": "python",
   "nbconvert_exporter": "python",
   "pygments_lexer": "ipython3",
   "version": "3.11.7"
  }
 },
 "nbformat": 4,
 "nbformat_minor": 5
}
