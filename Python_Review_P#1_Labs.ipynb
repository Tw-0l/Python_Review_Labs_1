{
 "cells": [
  {
   "cell_type": "markdown",
   "id": "b97dc926",
   "metadata": {},
   "source": [
    "## Lab1-Variables\n",
    "- Define a variable that has a value of your favourite season.\n",
    "- Define “x“ variable has an integer value and variable “y” has a float value.\n",
    "- Assign One Value to Multiple Variables.\n",
    "- Assign Many Values to Multiple Variables."
   ]
  },
  {
   "cell_type": "code",
   "execution_count": 11,
   "id": "8d2579eb",
   "metadata": {
    "tags": []
   },
   "outputs": [],
   "source": [
    "favourite_season = 'winter'\n",
    "x = 43\n",
    "y = 21.5\n",
    "\n",
    "z = h = 14\n",
    "a, b, c, = 1, 2, 3\n"
   ]
  },
  {
   "cell_type": "markdown",
   "id": "e6d060b4",
   "metadata": {},
   "source": [
    "## Lab2-Conditions\n",
    "\n",
    "### You want to recommend a movie to a friend based on the rating and popularity. To accomplish this do the following: \n",
    "\n",
    "- Create a variable for the movie (choose any movie you like).\n",
    "- Create a variable of type int to hold the rating of the movie out of 5. Give this movie rate = 3\n",
    "- Create a popularity score of type float, let it be 72.65\n",
    "- Using an if statement:\n",
    " - Check if the movie rating is 4 or greater and the popularity is greater than 80, print \"Highly recommended\".\n",
    " - Else if the movie rating is 3 or greater and the popularity is greater than 70, print \"I recommended it, It is good\".\n",
    " - Else if the movie rating is 2 or less and the popularity is greater than 60, print \"You should check it out!\".\n",
    " - Else the movie rating is 2 or less and the popularity is less than 50, print \"Don't watch it, It is a waste of time\"."
   ]
  },
  {
   "cell_type": "code",
   "execution_count": 13,
   "id": "b41b0f4b",
   "metadata": {
    "tags": []
   },
   "outputs": [
    {
     "name": "stdout",
     "output_type": "stream",
     "text": [
      "I recommend it, It is good\n"
     ]
    }
   ],
   "source": [
    "movie = \"STAR WARS: EPISODE V\"\n",
    "rating = 3\n",
    "popularity = 72.65\n",
    "if rating >= 4 and popularity > 80:\n",
    "    print(\"Highly recommended\")\n",
    "elif rating >= 3 and popularity > 70:\n",
    "    print(\"I recommend it, It is good\")\n",
    "elif rating <= 2 and popularity > 60:\n",
    "    print(\"You should check it out!\")\n",
    "elif rating <= 2 and popularity < 50:\n",
    "    print(\"Don't watch it, It is a waste of time\")\n"
   ]
  }
 ],
 "metadata": {
  "kernelspec": {
   "display_name": "Python 3 (ipykernel)",
   "language": "python",
   "name": "python3"
  },
  "language_info": {
   "codemirror_mode": {
    "name": "ipython",
    "version": 3
   },
   "file_extension": ".py",
   "mimetype": "text/x-python",
   "name": "python",
   "nbconvert_exporter": "python",
   "pygments_lexer": "ipython3",
   "version": "3.11.7"
  }
 },
 "nbformat": 4,
 "nbformat_minor": 5
}
